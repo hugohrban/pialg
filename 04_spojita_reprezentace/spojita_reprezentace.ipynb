{
 "cells": [
  {
   "cell_type": "markdown",
   "metadata": {},
   "source": [
    "# Evoluční algoritmy - spojitá a kombinatorická optimalizace\n",
    "\n",
    "Minule jsme si ukazovali jednoduchý genetický algoritmus, který pracoval s binárními jedinci. Dnes se podíváme na spojité a celočíselné reprezentace jedinců a na další druhy evolučních operátorů.\n",
    "\n",
    "## Minimalizace Rastrigin funkce\n",
    "\n",
    "V následujícím cvičení si vyzkoušíme napsat jednoduchý evoluční algoritmus pro minimalizace [Rastrigin funkce](https://en.wikipedia.org/wiki/Rastrigin_function). Tato funkce je typickým příkladem nelineární funkce a běžně se používá při testování chování optimalizačních algoritmů. Nalezení jejího globálního minima je složité, protože obsahuje spoustu lokálních minim. Globální minimum se nachází v bodě 0."
   ]
  },
  {
   "cell_type": "code",
   "execution_count": 1,
   "metadata": {},
   "outputs": [],
   "source": [
    "import numpy as np\n",
    "import random\n",
    "import copy\n",
    "import math\n",
    "%matplotlib inline\n",
    "import matplotlib.pyplot as plt"
   ]
  },
  {
   "cell_type": "markdown",
   "metadata": {},
   "source": [
    "Nejprve si definujem, jak tedy vypadá ona výše zmíněná funkce, kterou budeme chtít minimalizovat a naimplementujeme podle toho fitness. Hodnota fitness je vlastně hodnota rastrigin funkce v daném bodě, který jedinec reprezentuje. Protože evoluční algoritmus je maximalizační algoritmus, obrátíme znaménko u výsledné hodnoty funkce."
   ]
  },
  {
   "cell_type": "code",
   "execution_count": 2,
   "metadata": {},
   "outputs": [],
   "source": [
    "def fitness(individual):\n",
    "    N = len(individual)\n",
    "    A = 10\n",
    "    value = A*N\n",
    "    for i in range(0,len(individual)):\n",
    "        value += individual[i]**2 - A*math.cos(2*math.pi*individual[i])\n",
    "    return -value"
   ]
  },
  {
   "cell_type": "markdown",
   "metadata": {},
   "source": [
    "Potom je třeba si rozmyslet, jak bude vypadat jedinec. Bude to bude floating point vektor, kde hodnoty budou čísla z intervalu [-5.12,5.12] podle definičního oboru rastrigin funkce. Napíšeme si tedy funkci na vytvoření náhodné populace."
   ]
  },
  {
   "cell_type": "code",
   "execution_count": 3,
   "metadata": {},
   "outputs": [],
   "source": [
    "def random_population(population_size, individual_size):\n",
    "    population = []\n",
    "    \n",
    "    for i in range(0,population_size):\n",
    "        individual = np.random.uniform(-5.12, 5.12, size=(individual_size,))\n",
    "        population.append(individual)\n",
    "        \n",
    "    return population"
   ]
  },
  {
   "cell_type": "markdown",
   "metadata": {},
   "source": [
    "Pro vytvořenou populaci jedinců si napíšeme svoje operátory křížení a mutace. Křížení může být aritmetické, například vážený průměr dvou jedinců, nebo strukturální, kdy opět prohazujeme části jedinců. Zde si zkusíme naimplementovat aritmetické křížení pomocí průměrů hodnot ze dvou vybraných jedinců."
   ]
  },
  {
   "cell_type": "code",
   "execution_count": 4,
   "metadata": {},
   "outputs": [],
   "source": [
    "def crossover_mean(population, cross_prob=0.8, alpha=0.25):\n",
    "    new_population = []\n",
    "    \n",
    "    for j in range(0,len(population)//2):\n",
    "        indiv1 = copy.deepcopy(population[2*j])\n",
    "        indiv2 = copy.deepcopy(population[2*j+1])\n",
    "        child1 = indiv1\n",
    "        child2 = indiv2\n",
    "        if random.random()<cross_prob:\n",
    "            for i in range(0, len(indiv1)):\n",
    "                child1[i] = alpha*indiv1[i] + (1-alpha)*indiv2[i]\n",
    "                child2[i] = (1-alpha)*indiv1[i] + alpha*indiv2[i]\n",
    "        new_population.append(child1)\n",
    "        new_population.append(child2)\n",
    "        \n",
    "    return new_population"
   ]
  },
  {
   "cell_type": "markdown",
   "metadata": {},
   "source": [
    "Mutace může být buď netížená, což znamená, že se pro mutovanou pozici vygeneruje nové číslo z daného rozsahu hodnot, nebo zatížená, kdy k hodnotě v jedinci přičtu nějaké číslo z normálního rozdělení s danou odchylkou (například 1) a nulovou střední hodnotou. Vyzkoušíme si zda naimplementovat nezatíženou mutaci, která pro mutovanou pozici vybere nové náhodné číslo z rozsahu možných hodnot rastrigin funkce."
   ]
  },
  {
   "cell_type": "code",
   "execution_count": 5,
   "metadata": {},
   "outputs": [],
   "source": [
    "def mutation_switch(population,individual_mutation_prob=0.2,value_mutation_prob=0.1):\n",
    "    new_population = []\n",
    "    for j in range(0,len(population)):\n",
    "        individual = copy.deepcopy(population[j])\n",
    "        if random.random() < individual_mutation_prob:\n",
    "            for i in range(0,len(individual)):\n",
    "                if random.random() < value_mutation_prob:\n",
    "                    individual[i] = np.random.uniform(-5.12, 5.12)\n",
    "        new_population.append(individual)\n",
    "    return new_population"
   ]
  },
  {
   "cell_type": "markdown",
   "metadata": {},
   "source": [
    "Na závěr si definujeme ještě selekci. Tentokrát si vyzkoušíme turnajovou selekci, kdy se náhodně vybere k jedinců z populace a udělá se mezi nimi turnaj a vybere se ten s nejlepší fitness. Tato selekce má oproti ruletové velkou výhodu -- nezávisí na hodnotě fitness, ale pouze na pořadí jedinců v populaci podle fitness. Tedy nám nevadí, že vracíme zápornou hodnotu fitness a selekce se nám nerozbije."
   ]
  },
  {
   "cell_type": "code",
   "execution_count": 6,
   "metadata": {},
   "outputs": [],
   "source": [
    "def selection(population,fitness_value, k): \n",
    "    new_population = []\n",
    "    for i in range(0,len(population)):\n",
    "        individuals = []\n",
    "        fitnesses = []\n",
    "        for _ in range(0,k):\n",
    "            idx = random.randint(0,len(population)-1)\n",
    "            individuals.append(population[idx])\n",
    "            fitnesses.append(fitness_value[idx])\n",
    "        new_population.append(copy.deepcopy(individuals[np.argmax(fitnesses)]))\n",
    "    return new_population "
   ]
  },
  {
   "cell_type": "markdown",
   "metadata": {},
   "source": [
    "Nyní si stejně jako v minulé hodině definujeme celý evoluční algoritmus a pak ho pustíme a sledujeme, co se bude dít."
   ]
  },
  {
   "cell_type": "code",
   "execution_count": 7,
   "metadata": {},
   "outputs": [],
   "source": [
    "def evolution(population_size, individual_size, max_generations):\n",
    "    max_fitness = []\n",
    "    population = random_population(population_size,individual_size)\n",
    "    \n",
    "    for i in range(0,max_generations):\n",
    "        fitness_value = list(map(fitness, population))\n",
    "        max_fitness.append(max(fitness_value))\n",
    "        parents = selection(population,fitness_value,2)\n",
    "        children = crossover_mean(parents)\n",
    "        mutated_children = mutation_switch(children)\n",
    "        population = mutated_children\n",
    "        \n",
    "    # spocitame fitness i pro posledni populaci\n",
    "    fitness_value = list(map(fitness, population))\n",
    "    max_fitness.append(max(fitness_value))\n",
    "    best_individual = population[np.argmax(fitness_value)]\n",
    "    \n",
    "    return best_individual, population, max_fitness"
   ]
  },
  {
   "cell_type": "code",
   "execution_count": 8,
   "metadata": {
    "scrolled": true
   },
   "outputs": [
    {
     "name": "stdout",
     "output_type": "stream",
     "text": [
      "best fitness:  -5.011409886051624\n",
      "best individual:  [ 1.08180217e-03  3.78233742e-04  1.00177065e+00  2.05416396e-02\n",
      "  9.84488628e-01  1.79699789e-02  9.49957213e-02  6.02937476e-02\n",
      " -2.21171579e-02  3.86606414e-02]\n"
     ]
    },
    {
     "data": {
      "text/plain": [
       "Text(0.5, 0, 'Generace')"
      ]
     },
     "execution_count": 8,
     "metadata": {},
     "output_type": "execute_result"
    },
    {
     "data": {
      "image/png": "[encoded data removed]",
      "text/plain": [
       "<Figure size 640x480 with 1 Axes>"
      ]
     },
     "metadata": {},
     "output_type": "display_data"
    }
   ],
   "source": [
    "best, population, max_fitness = evolution(population_size=100,individual_size=10,max_generations=100)\n",
    "\n",
    "print('best fitness: ', fitness(best))\n",
    "print('best individual: ', best)\n",
    "\n",
    "\n",
    "plt.plot(max_fitness)\n",
    "plt.ylabel('Fitness')\n",
    "plt.xlabel('Generace')\n"
   ]
  },
  {
   "cell_type": "markdown",
   "metadata": {},
   "source": [
    "## Úkol na cvičení\n",
    "\n",
    "V kódu výše je naprogramovaná nejjednodušší mutace -- nezatížená. Zkuste si napsat alespoň dva další druhy mutace z následujích možností a porovnat, jak se bude evoluční algoritmus chovat.\n",
    "1. Zatížená mutace, kdy se k hodnotě v jedinci přičítá číslo z normalního rozdělení se střední hodnotou 0 a rozptylem sigma. Sigma se třeba navíc může během každých n generací postupně snižovat. \n",
    "\n",
    "2. Mutace s 1/5 pravidlem, která se používá hlavně u evolučních strategií a probíhá podobně jako zatížená mutace: přičítá k hodnotě číslo z náhodného rozdělení s 0 střední hodnotou a rozptylem sigma. Sigma se updatuje v každém kroku následovně: máme jedince a podíváme se, kolik je v populaci jedinců lepších než ten náš. Sigmu pak upravíme pomocí jednoduché rovnice: sigma = sigma * e^(počet_lepších_jedinců/počet_všech_jedinců-1/5).\n",
    "\n",
    "3. Mutace z diferenciální evoluce, která vybere náhodně pro daného jedince dva další a složku po složce dělá rozdíl jejich hodnot a ten navíc vynásobí nějakou konstantou (třeba 0.8) a to pak přičte k hodnotám v původním jedinci. \n",
    "\n",
    "Můžete samozřejmě zkusit vymyslet i nějakou vlastní mutaci, nebo třeba zkusit vypnout mutaci nebo vypnout křížení a sledovat, co se bude s evolucí dít.\n",
    "\n",
    "\n"
   ]
  },
  {
   "attachments": {},
   "cell_type": "markdown",
   "metadata": {},
   "source": [
    "#### biased mutacia, kde pricitam cislo z normalnej distr okolo 0 "
   ]
  },
  {
   "cell_type": "code",
   "execution_count": 9,
   "metadata": {},
   "outputs": [],
   "source": [
    "def mutation_normal(population, indiv_prob_mut=0.2, value_prob_mut=0.2, sigma=0.1):\n",
    "    new_population = []\n",
    "    for i in range(len(population)):\n",
    "        individual = copy.deepcopy(population[i])\n",
    "        if random.random() < indiv_prob_mut:\n",
    "            for j in range(len(individual)):\n",
    "                if random.random() < value_prob_mut:\n",
    "                    epsilon = np.random.normal(loc=0.0, scale=sigma)\n",
    "                    if np.abs(individual[j] + epsilon) < 5.12:\n",
    "                        individual[j] += epsilon\n",
    "        new_population.append(individual)\n",
    "    return new_population"
   ]
  },
  {
   "cell_type": "code",
   "execution_count": 10,
   "metadata": {},
   "outputs": [],
   "source": [
    "def evolution2(population_size, individual_size, max_generations):\n",
    "    max_fitness = []\n",
    "    population = random_population(population_size,individual_size)\n",
    "    \n",
    "    for i in range(0,max_generations):\n",
    "        fitness_value = list(map(fitness, population))\n",
    "        max_fitness.append(max(fitness_value))\n",
    "        parents = selection(population,fitness_value,2)\n",
    "        children = crossover_mean(parents)\n",
    "        mutated_children = mutation_normal(children, indiv_prob_mut=0.1, sigma=0.5)\n",
    "        population = mutated_children\n",
    "        \n",
    "    # spocitame fitness i pro posledni populaci\n",
    "    fitness_value = list(map(fitness, population))\n",
    "    max_fitness.append(max(fitness_value))\n",
    "    best_individual = population[np.argmax(fitness_value)]\n",
    "    \n",
    "    return best_individual, population, max_fitness"
   ]
  },
  {
   "cell_type": "code",
   "execution_count": 13,
   "metadata": {},
   "outputs": [
    {
     "name": "stdout",
     "output_type": "stream",
     "text": [
      "best fitness:  -0.0\n",
      "best individual:  [9.85915729e-12]\n"
     ]
    },
    {
     "data": {
      "text/plain": [
       "Text(0.5, 0, 'Generace')"
      ]
     },
     "execution_count": 13,
     "metadata": {},
     "output_type": "execute_result"
    },
    {
     "data": {
      "image/png": "[encoded data removed]",
      "text/plain": [
       "<Figure size 640x480 with 1 Axes>"
      ]
     },
     "metadata": {},
     "output_type": "display_data"
    }
   ],
   "source": [
    "best, population, max_fitness = evolution2(population_size=300,individual_size=1,max_generations=300)\n",
    "\n",
    "print('best fitness: ', fitness(best))\n",
    "print('best individual: ', best)\n",
    "\n",
    "\n",
    "plt.plot(max_fitness)\n",
    "plt.ylabel('Fitness')\n",
    "plt.xlabel('Generace')"
   ]
  },
  {
   "attachments": {},
   "cell_type": "markdown",
   "metadata": {},
   "source": [
    "#### 1/5 mutacia"
   ]
  },
  {
   "cell_type": "code",
   "execution_count": 14,
   "metadata": {},
   "outputs": [],
   "source": [
    "def mutation_fifth(population, indiv_prob_mut=0.2, value_prob_mut=0.2, sigma=1.0):\n",
    "    new_population = []\n",
    "    for i in range(len(population)):\n",
    "        individual = copy.deepcopy(population[i])\n",
    "        fitness_values = list(map(fitness, population))\n",
    "        indiv_fitness = fitness(individual)\n",
    "        better_indivs = len([1 for k in range(len(population)) if fitness_values[k] > indiv_fitness])\n",
    "        # TODO update sigma using 1/5 rule\n",
    "        #print(better_indivs)\n",
    "        if random.random() < indiv_prob_mut:\n",
    "            for j in range(len(individual)):\n",
    "                if random.random() < value_prob_mut:\n",
    "                    epsilon = np.random.normal(loc=0.0, scale=sigma)\n",
    "                    if np.abs(individual[j] + epsilon) < 5.12:\n",
    "                        individual[j] += epsilon\n",
    "        new_population.append(individual)\n",
    "    return new_population"
   ]
  },
  {
   "cell_type": "code",
   "execution_count": 15,
   "metadata": {},
   "outputs": [],
   "source": [
    "def evolution3(population_size, individual_size, max_generations):\n",
    "    max_fitness = []\n",
    "    population = random_population(population_size,individual_size)\n",
    "    \n",
    "    for i in range(0,max_generations):\n",
    "        fitness_value = list(map(fitness, population))\n",
    "        max_fitness.append(max(fitness_value))\n",
    "        parents = selection(population,fitness_value,2)\n",
    "        children = crossover_mean(parents)\n",
    "        mutated_children = mutation_fifth(children, sigma=0.5)\n",
    "        population = mutated_children\n",
    "        \n",
    "    # spocitame fitness i pro posledni populaci\n",
    "    fitness_value = list(map(fitness, population))\n",
    "    max_fitness.append(max(fitness_value))\n",
    "    best_individual = population[np.argmax(fitness_value)]\n",
    "    \n",
    "    return best_individual, population, max_fitness"
   ]
  },
  {
   "cell_type": "code",
   "execution_count": 16,
   "metadata": {},
   "outputs": [
    {
     "name": "stdout",
     "output_type": "stream",
     "text": [
      "best fitness:  -0.9951472227305622\n",
      "best individual:  [ 6.60690234e-04  5.01996041e-04 -2.32120366e-05  9.94477687e-01\n",
      " -1.67968333e-04]\n"
     ]
    },
    {
     "data": {
      "text/plain": [
       "Text(0.5, 0, 'Generace')"
      ]
     },
     "execution_count": 16,
     "metadata": {},
     "output_type": "execute_result"
    },
    {
     "data": {
      "image/png": "[encoded data removed]",
      "text/plain": [
       "<Figure size 640x480 with 1 Axes>"
      ]
     },
     "metadata": {},
     "output_type": "display_data"
    }
   ],
   "source": [
    "best, population, max_fitness = evolution3(population_size=100,individual_size=5,max_generations=300)\n",
    "\n",
    "print('best fitness: ', fitness(best))\n",
    "print('best individual: ', best)\n",
    "\n",
    "\n",
    "plt.plot(max_fitness)\n",
    "plt.ylabel('Fitness')\n",
    "plt.xlabel('Generace')"
   ]
  },
  {
   "cell_type": "markdown",
   "metadata": {},
   "source": [
    "## Deap knihovna\n",
    "\n",
    "Nyní si opět vyzkoušíme přepsat výše zmíněný problém minimalizace rastrigin funkce pomocí operátorů knihovny deap, abychom si lépe vyzkoušeli, jak se s ní pracuje a jak v ní tvořit svoje vlastní operátory, které se nám budou hodit příští hodinu u genetického programování (to už to bez něj totiž opravdu tak snadno nepůjde)."
   ]
  },
  {
   "cell_type": "code",
   "execution_count": 17,
   "metadata": {},
   "outputs": [],
   "source": [
    "from deap import base\n",
    "from deap import creator\n",
    "from deap import tools\n",
    "from deap import algorithms"
   ]
  },
  {
   "cell_type": "markdown",
   "metadata": {},
   "source": [
    "Pro jistotu si znovu definujeme vlastní funkce mutace, křížení a fitness funkci. Mutace bude opět nezatížená a křížení zůstane pomocí průměru dvou hodnot."
   ]
  },
  {
   "cell_type": "code",
   "execution_count": 18,
   "metadata": {},
   "outputs": [],
   "source": [
    "def rastring_function(individual):\n",
    "    N = len(individual)\n",
    "    A = 10\n",
    "    value = A*N\n",
    "    for i in range(0,len(individual)):\n",
    "        value += individual[i]**2 - A*math.cos(2*math.pi*individual[i])\n",
    "    return value,\n",
    "\n",
    "def mutation_switch(individual,indpb):\n",
    "    for i in range(0,len(individual)):\n",
    "        if random.random() < indpb:\n",
    "            individual[i] = np.random.uniform(-5.12, 5.12)\n",
    "    return individual,\n",
    "\n",
    "def crossover_mean(individual1, individual2, alpha=0.25):\n",
    "    child1 = individual1\n",
    "    child2 = individual2\n",
    "    for i in range(0, len(individual1)):\n",
    "        child1[i] = alpha*individual1[i] + (1-alpha)*individual2[i]\n",
    "        child2[i] = (1-alpha)*individual1[i] + alpha*individual2[i]\n",
    "    return child1, child2"
   ]
  },
  {
   "cell_type": "markdown",
   "metadata": {},
   "source": [
    "Pak si zadefinujeme nový toolbox a přídáme do něj naše operátory. "
   ]
  },
  {
   "cell_type": "code",
   "execution_count": 19,
   "metadata": {},
   "outputs": [],
   "source": [
    "creator.create(\"FitnessMin\", base.Fitness, weights=(-1.0,)) # -1 protoze chci minimalizovat funkci\n",
    "creator.create(\"Individual\", list, fitness=creator.FitnessMin)\n",
    "\n",
    "toolbox = base.Toolbox()\n",
    "\n",
    "toolbox.register(\"attr_float\", random.uniform,-5.12, 5.12)\n",
    "toolbox.register(\"individual\", tools.initRepeat, creator.Individual, toolbox.attr_float, n=4)\n",
    "toolbox.register(\"population\", tools.initRepeat, list, toolbox.individual)\n",
    "\n",
    "toolbox.register(\"evaluate\", rastring_function)\n",
    "toolbox.register(\"mate\", crossover_mean)\n",
    "toolbox.register(\"mutate\", mutation_switch, indpb=0.1)\n",
    "toolbox.register(\"select\", tools.selTournament, tournsize=3)"
   ]
  },
  {
   "cell_type": "markdown",
   "metadata": {},
   "source": [
    "Na závěr pustíme celou eveluci a můžeme sledovat, jak se nám hledání minima daří, nebo nedaří."
   ]
  },
  {
   "cell_type": "code",
   "execution_count": 22,
   "metadata": {},
   "outputs": [
    {
     "name": "stdout",
     "output_type": "stream",
     "text": [
      "gen\tnevals\tavg    \tstd    \tmin    \tmax    \n",
      "0  \t1000  \t73.6339\t20.1177\t15.5566\t144.138\n",
      "1  \t857   \t57.175 \t16.4142\t15.5566\t111.585\n",
      "2  \t855   \t48.4138\t15.3696\t3.91413\t93.5322\n",
      "3  \t828   \t43.4896\t15.3194\t3.91413\t90.7884\n",
      "4  \t851   \t40.5273\t14.6327\t3.91413\t95.6099\n",
      "5  \t854   \t38.6913\t15.1347\t2.51269\t93.5789\n",
      "6  \t857   \t35.8178\t14.5124\t3.88465\t86.5989\n",
      "7  \t811   \t31.2718\t14.0369\t1.97917\t88.1248\n",
      "8  \t864   \t27.3233\t13.2357\t2.11398\t84.0304\n",
      "9  \t852   \t23.5375\t13.5212\t0.661012\t87.018 \n",
      "10 \t859   \t17.6869\t12.0064\t0.474286\t90.384 \n",
      "11 \t830   \t12.7008\t10.1269\t0.433094\t92.4515\n",
      "12 \t850   \t7.48797\t8.33541\t0.0941532\t71.0956\n",
      "13 \t839   \t4.04504\t7.09886\t0.0633509\t63.9737\n",
      "14 \t844   \t2.24312\t5.49892\t0.074632 \t47.7228\n",
      "15 \t865   \t1.72425\t6.02731\t0.0562041\t60.7725\n",
      "16 \t828   \t1.70492\t6.56992\t0.0340854\t55.6127\n",
      "17 \t857   \t1.51354\t6.58634\t0.0393149\t81.3369\n",
      "18 \t848   \t1.85981\t7.1187 \t0.0327997\t66.436 \n",
      "19 \t834   \t1.6706 \t6.4554 \t0.0245754\t55.7252\n",
      "20 \t848   \t1.50017\t6.2314 \t0.0226184\t50.5052\n",
      "21 \t844   \t1.94564\t7.4909 \t0.0196963\t73.5921\n",
      "22 \t842   \t1.5397 \t6.23948\t0.0196963\t58.1618\n",
      "23 \t842   \t1.5643 \t6.26445\t0.0178443\t53.2389\n",
      "24 \t826   \t1.5047 \t6.26196\t0.0178443\t62.3292\n",
      "25 \t833   \t1.58382\t6.48606\t0.0131615\t74.838 \n",
      "26 \t839   \t1.10133\t5.12681\t0.0128035\t57.326 \n",
      "27 \t833   \t1.52449\t6.54325\t0.0132052\t59.2729\n",
      "28 \t844   \t1.6004 \t6.69138\t0.0133573\t47.4689\n",
      "29 \t838   \t1.44316\t5.99301\t0.0136449\t61.3135\n",
      "30 \t835   \t1.60367\t6.7662 \t0.0136367\t76.9544\n",
      "31 \t847   \t1.59114\t6.75656\t0.0135559\t68.3429\n",
      "32 \t826   \t1.13035\t5.48993\t0.0135559\t61.6632\n",
      "33 \t841   \t1.46733\t6.46933\t0.0136001\t55.9867\n",
      "34 \t839   \t1.34737\t6.51157\t0.0136278\t78.6224\n",
      "35 \t834   \t1.71832\t6.96805\t0.0136254\t63.7117\n",
      "36 \t835   \t1.61525\t6.40842\t0.0136328\t47.7479\n",
      "37 \t835   \t1.41985\t5.93576\t0.0136166\t60.8839\n",
      "38 \t803   \t1.22643\t5.73184\t0.0136166\t66.1567\n",
      "39 \t804   \t1.21939\t5.58203\t0.0136206\t46.6209\n",
      "40 \t861   \t1.15199\t5.25078\t0.0136206\t49.6117\n",
      "41 \t826   \t1.37135\t6.26076\t0.0136206\t56.0214\n",
      "42 \t817   \t1.47089\t6.29856\t0.0136237\t54.4407\n",
      "43 \t828   \t1.65941\t6.83073\t0.0136237\t58.3155\n",
      "44 \t841   \t1.55178\t6.92442\t0.0136237\t101.948\n",
      "45 \t847   \t1.6651 \t6.73554\t0.0136237\t81.6296\n",
      "46 \t876   \t1.46109\t6.31335\t0.0136237\t54.0669\n",
      "47 \t844   \t1.75788\t7.48948\t0.0136237\t102.455\n",
      "48 \t837   \t1.69875\t6.52028\t0.0136237\t46.6754\n",
      "49 \t822   \t1.35563\t6.2986 \t0.0136237\t76.6397\n",
      "50 \t829   \t1.57369\t6.3485 \t0.0136237\t70.2466\n",
      "51 \t856   \t1.72565\t7.09774\t0.00587164\t80.9769\n",
      "52 \t808   \t1.52617\t7.19491\t0.00587164\t103.036\n",
      "53 \t830   \t1.71647\t7.11499\t0.0069113 \t58.298 \n",
      "54 \t803   \t1.3522 \t6.17651\t0.0069113 \t54.0149\n",
      "55 \t819   \t1.11508\t5.69785\t0.0069113 \t74.7226\n",
      "56 \t866   \t1.56832\t6.28614\t0.0069113 \t61.2381\n",
      "57 \t824   \t1.49795\t6.31689\t0.0069113 \t62.0367\n",
      "58 \t840   \t1.62564\t6.65195\t0.00765122\t61.5541\n",
      "59 \t863   \t1.69535\t6.73511\t0.00771902\t58.283 \n",
      "60 \t836   \t1.44416\t6.0287 \t0.00771902\t55.5773\n",
      "61 \t839   \t1.84122\t7.14837\t0.00771902\t58.6365\n",
      "62 \t872   \t1.46526\t6.30411\t0.00784977\t73.9437\n",
      "63 \t838   \t1.37914\t5.86109\t0.00789287\t71.484 \n",
      "64 \t837   \t1.56138\t6.66647\t0.00789287\t72.7751\n",
      "65 \t861   \t1.78581\t7.39071\t0.00789287\t66.5062\n",
      "66 \t837   \t1.51833\t6.60332\t0.00789287\t60.022 \n",
      "67 \t852   \t1.21364\t5.48807\t0.00792376\t49.7123\n",
      "68 \t839   \t1.44902\t6.44403\t0.00793746\t69.5074\n",
      "69 \t842   \t1.36533\t5.79966\t0.00794203\t40.3033\n",
      "70 \t839   \t1.58102\t7.02203\t0.00795923\t70.3398\n",
      "71 \t839   \t1.64277\t7.53133\t0.00796507\t79.3411\n",
      "72 \t854   \t1.55135\t6.55324\t0.00796507\t69.9472\n",
      "73 \t833   \t1.72408\t6.65153\t0.00796535\t56.5893\n",
      "74 \t846   \t1.7366 \t7.50805\t0.00796535\t72.5177\n",
      "75 \t808   \t1.28281\t6.26217\t0.00796535\t70.4867\n",
      "76 \t826   \t1.82682\t7.1312 \t0.00796649\t64.2399\n",
      "77 \t832   \t1.4328 \t6.03454\t0.00796729\t44.3671\n",
      "78 \t853   \t1.43288\t6.34155\t0.00796729\t65.7835\n",
      "79 \t818   \t1.47231\t6.38598\t0.00796729\t55.3012\n",
      "80 \t850   \t1.72853\t6.94321\t0.0079678 \t66.6754\n",
      "81 \t848   \t1.52301\t6.99208\t0.00796797\t90.1979\n",
      "82 \t838   \t1.6103 \t6.49654\t0.00796797\t58.1734\n",
      "83 \t820   \t1.47943\t6.53944\t0.00796797\t65.4049\n",
      "84 \t851   \t1.4667 \t6.49136\t0.00796797\t54.349 \n",
      "85 \t835   \t1.09843\t5.01365\t0.00796797\t42.3022\n",
      "86 \t852   \t1.77478\t7.31466\t0.00796797\t61.1558\n",
      "87 \t841   \t1.68986\t7.0431 \t0.00796803\t60.6206\n",
      "88 \t833   \t1.31374\t5.65201\t0.00796805\t49.1134\n",
      "89 \t842   \t1.48663\t6.48415\t0.00796806\t64.7744\n",
      "90 \t834   \t1.91353\t7.21104\t0.00796807\t53.7284\n",
      "91 \t858   \t1.91396\t7.27029\t0.00796807\t65.6566\n",
      "92 \t840   \t1.29672\t5.69   \t0.00796807\t53.3164\n",
      "93 \t804   \t1.49687\t6.75339\t0.00796807\t63.0881\n",
      "94 \t837   \t1.88801\t7.00732\t0.00796808\t60.5793\n",
      "95 \t837   \t1.40099\t6.27505\t0.00796808\t57.4539\n",
      "96 \t837   \t1.3656 \t6.32804\t0.00796808\t52.2052\n",
      "97 \t837   \t1.23066\t5.97125\t0.00796808\t73.9565\n",
      "98 \t874   \t1.43455\t6.5233 \t0.00796808\t65.8686\n",
      "99 \t772   \t1.1379 \t5.42948\t0.00796808\t52.4472\n",
      "100\t825   \t1.55868\t6.88933\t0.00796808\t67.6399\n",
      "101\t816   \t1.5628 \t6.65651\t0.00796808\t57.7394\n",
      "102\t832   \t1.58299\t6.54626\t0.00796808\t45.7675\n",
      "103\t857   \t0.981589\t4.84175\t0.00796808\t45.9575\n",
      "104\t828   \t1.64379 \t6.87276\t0.00796808\t70.5688\n",
      "105\t845   \t1.07609 \t5.35123\t0.00796808\t59.1026\n",
      "106\t844   \t1.62604 \t6.56227\t0.00796808\t58.7527\n",
      "107\t840   \t1.41721 \t6.09606\t0.00796808\t69.8442\n",
      "108\t817   \t1.46877 \t6.82484\t0.00796808\t75.099 \n",
      "109\t845   \t1.29549 \t5.60109\t0.00796808\t45.0728\n",
      "110\t861   \t1.48314 \t6.21059\t0.00796808\t52.215 \n",
      "111\t866   \t1.79154 \t6.89881\t0.00796808\t61.9135\n",
      "112\t842   \t1.27907 \t5.66404\t0.00796808\t57.8352\n",
      "113\t860   \t1.54244 \t6.29503\t0.00796808\t57.062 \n",
      "114\t846   \t1.59532 \t6.38733\t0.00796808\t59.629 \n",
      "115\t834   \t1.33328 \t5.86331\t0.00796808\t47.5895\n",
      "116\t844   \t1.63409 \t6.97491\t0.00796808\t67.7797\n",
      "117\t845   \t1.04147 \t5.16953\t0.00796808\t56.6619\n",
      "118\t843   \t1.72256 \t6.64101\t0.00796808\t55.5477\n",
      "119\t830   \t1.55536 \t6.5852 \t0.00796808\t73.9822\n",
      "120\t832   \t1.33614 \t5.87311\t0.00796808\t69.4121\n",
      "121\t873   \t1.69326 \t7.0229 \t0.00796808\t70.7165\n",
      "122\t845   \t1.43772 \t6.1378 \t0.00796808\t56.471 \n",
      "123\t837   \t1.86899 \t7.74298\t0.00796808\t78.6565\n",
      "124\t852   \t1.23785 \t5.63307\t0.00796808\t54.5967\n",
      "125\t827   \t1.70364 \t7.04924\t0.00631336\t78.9677\n",
      "126\t820   \t1.47988 \t6.83756\t0.00555994\t84.5953\n",
      "127\t848   \t1.24791 \t6.00516\t0.00547807\t69.3221\n",
      "128\t820   \t1.22265 \t6.01484\t0.00547807\t66.0765\n",
      "129\t857   \t1.71893 \t6.40896\t0.0054747 \t47.8001\n",
      "130\t840   \t1.61158 \t6.27006\t0.00547464\t53.6714\n",
      "131\t820   \t1.4517  \t6.01915\t0.0054747 \t53.1486\n",
      "132\t840   \t1.27582 \t5.88233\t0.0054747 \t59.3194\n",
      "133\t821   \t1.43046 \t6.16636\t0.00547463\t58.3812\n",
      "134\t841   \t1.52306 \t6.68152\t0.00547464\t59.7553\n",
      "135\t818   \t1.63464 \t6.95883\t0.00547464\t59.7963\n",
      "136\t848   \t1.75725 \t7.24164\t0.00547462\t70.0925\n",
      "137\t836   \t1.20239 \t5.8144 \t0.00547462\t56.7609\n",
      "138\t813   \t1.13975 \t5.13321\t0.00547462\t60.2311\n",
      "139\t848   \t1.24933 \t5.77393\t0.00547462\t49.8098\n",
      "140\t840   \t1.16472 \t5.34755\t0.00547462\t52.3508\n",
      "141\t846   \t1.44288 \t6.57551\t0.00547462\t69.6459\n",
      "142\t852   \t1.17829 \t5.65583\t0.00547462\t64.8374\n",
      "143\t840   \t1.37276 \t6.30626\t0.00547462\t56.1557\n",
      "144\t814   \t1.60643 \t6.60675\t0.00547462\t45.6672\n",
      "145\t831   \t1.47356 \t6.14365\t0.00547462\t65.8146\n",
      "146\t847   \t1.12858 \t5.2853 \t0.00547462\t43.0435\n",
      "147\t843   \t1.43863 \t5.9027 \t0.00547462\t51.9259\n",
      "148\t852   \t1.3216  \t5.99177\t0.00547462\t65.2897\n",
      "149\t857   \t1.3898  \t6.01854\t0.00547462\t81.0368\n",
      "150\t854   \t1.35839 \t6.32586\t0.00547462\t84.7936\n",
      "151\t824   \t1.27927 \t5.80671\t0.00547462\t55.5077\n",
      "152\t842   \t1.52664 \t7.08605\t0.00547462\t76.3472\n",
      "153\t809   \t1.53585 \t6.31247\t0.00547462\t49.0559\n",
      "154\t826   \t1.49031 \t6.13271\t0.00547462\t52.9229\n",
      "155\t846   \t1.33777 \t6.72736\t0.00547462\t105.668\n",
      "156\t830   \t1.81545 \t7.29608\t0.00547462\t59.1997\n",
      "157\t861   \t1.56386 \t6.47879\t0.00547462\t47.3291\n",
      "158\t838   \t1.24774 \t6.1286 \t0.00547462\t81.7744\n",
      "159\t823   \t1.33445 \t5.85432\t0.00547462\t52.59  \n",
      "160\t824   \t1.30155 \t6.46715\t0.00547462\t56.5106\n",
      "161\t852   \t1.22911 \t5.96625\t0.00547462\t66.7627\n",
      "162\t845   \t1.84823 \t7.05413\t0.00547462\t49.8476\n",
      "163\t856   \t1.54323 \t6.43477\t0.00547462\t67.5078\n",
      "164\t864   \t1.62648 \t6.68098\t0.00547462\t59.0186\n",
      "165\t824   \t1.38877 \t6.20424\t0.00547462\t54.8037\n",
      "166\t820   \t1.31356 \t6.0233 \t0.00547462\t66.6833\n",
      "167\t824   \t1.1394  \t6.00061\t0.00547462\t82.1684\n",
      "168\t860   \t1.3679  \t5.84226\t0.00475752\t58.9521\n",
      "169\t815   \t1.69785 \t7.45833\t0.00475752\t75.4433\n",
      "170\t831   \t1.50318 \t7.18591\t0.00485061\t121.498\n",
      "171\t864   \t1.59659 \t6.36494\t0.00488588\t52.8604\n",
      "172\t818   \t1.25569 \t5.43388\t0.0049403 \t55.7855\n",
      "173\t827   \t1.44361 \t6.66155\t0.0050175 \t95.0274\n",
      "174\t825   \t1.30637 \t5.84377\t0.0050175 \t64.9674\n",
      "175\t799   \t1.4835  \t6.64753\t0.00501918\t56.8185\n",
      "176\t850   \t1.34725 \t5.79308\t0.00501918\t46.3461\n",
      "177\t846   \t1.14874 \t5.63034\t0.00503256\t50.3521\n",
      "178\t833   \t1.43889 \t6.24021\t0.00503706\t63.54  \n",
      "179\t831   \t1.75809 \t7.19468\t0.00504124\t62.9496\n",
      "180\t889   \t1.22231 \t5.89104\t0.00504124\t73.0412\n",
      "181\t835   \t1.55411 \t6.76584\t0.00504124\t64.331 \n",
      "182\t835   \t1.50037 \t6.46798\t0.00504124\t79.1762\n",
      "183\t838   \t1.50353 \t6.44539\t0.00504372\t58.0062\n",
      "184\t827   \t1.49066 \t6.72543\t0.00504372\t70.9943\n",
      "185\t819   \t1.4382  \t7.05127\t0.00504374\t94.4028\n",
      "186\t830   \t1.39508 \t6.28589\t0.00504408\t53.2728\n",
      "187\t834   \t1.57571 \t6.61133\t0.00504458\t59.7893\n",
      "188\t834   \t1.58254 \t6.94148\t0.00504471\t60.8523\n",
      "189\t833   \t1.36499 \t6.0337 \t0.00504474\t58.4606\n",
      "190\t817   \t1.09116 \t5.33212\t0.00504474\t54.4905\n",
      "191\t865   \t1.84523 \t7.46998\t0.00504474\t83.9919\n",
      "192\t847   \t1.4557  \t6.23577\t0.00504483\t58.384 \n",
      "193\t832   \t1.21622 \t5.75533\t0.00504483\t50.3261\n",
      "194\t840   \t1.20389 \t5.76513\t0.00504488\t58.8936\n",
      "195\t868   \t1.49562 \t6.47147\t0.00504491\t56.8329\n",
      "196\t800   \t1.78974 \t7.32062\t0.00504492\t58.3349\n",
      "197\t839   \t1.66237 \t7.24461\t0.00504492\t65.737 \n",
      "198\t803   \t1.56837 \t6.85156\t0.00504493\t81.856 \n",
      "199\t842   \t1.60357 \t6.60636\t0.00504493\t60.125 \n",
      "200\t854   \t1.45851 \t6.4622 \t0.00504493\t63.0977\n"
     ]
    }
   ],
   "source": [
    "pop = toolbox.population(n=1000)\n",
    "hof = tools.HallOfFame(1)\n",
    "stats = tools.Statistics(lambda ind: ind.fitness.values)\n",
    "stats.register(\"avg\", np.mean)\n",
    "stats.register(\"std\", np.std)\n",
    "stats.register(\"min\", np.min)\n",
    "stats.register(\"max\", np.max)\n",
    "\n",
    "pop, log = algorithms.eaSimple(pop, toolbox, cxpb=0.8, mutpb=0.2, ngen=200,\n",
    "                               stats=stats, halloffame=hof, verbose=True)"
   ]
  },
  {
   "cell_type": "markdown",
   "metadata": {},
   "source": [
    "## Domácí úkol - Batoh\n",
    "\n",
    "Za domácí úkol budete mít vyřešit pomocí evolučního algoritmu problém batohu. Ten spočívá v tom, že máme batoh kapacity K a N předmětů, každý s cenou c<sub>i</sub> a objemem v<sub>i</sub> a chceme vybrat takové věci, abychom maximalizovali zisk a zároveň abychom nepřekročili kapacitu batohu. \n",
    "\n",
    "Vstupní data máte ve složce *domaci_ukol_data*. Obsahuje čtyři soubory s daty a dva s výsledky. Na první řádce souboru s daty je vždy počet předmětů a kapacita batohu oddělené mezerou, každý další následující řádek obsahuje cenu a objem předmětu taktéž oddělené mezerou. První dva soubory slouží pro snažší odladění evolučního algoritmu a obsahují i k sobě extra soubory s optimálním řešením. Na dalších dvou máte za úkol algoritmus pustit a výsledky na nich naměřené mi poslat. \n",
    "\n",
    "Napište tedy nějaký svůj evoluční algoritmus, který bude řešit problém batohu a pusťte ho na vstupních datech. Svůj kód, popis evolučního algoritmu (zvolené evoluční operátory, kódování jedince, atd.) a rozbor výsledků, včetně nejlepšího dosaženého skóre i s jejich odůvodněním mi pošlete emailem do stanoveného deadline.  Pro sepsání popisu vašeho evolučního algoritmu, parametrů evoluce, zvolené reprezentace jedince a rozboru výsledků použijte [tento template](https://github.com/kackamac/Prirodou-inspirovane-algoritmy/blob/master/04_spojita_reprezentace/DU1_evolucni_algoritmy.pdf)."
   ]
  },
  {
   "cell_type": "code",
   "execution_count": null,
   "metadata": {},
   "outputs": [],
   "source": []
  }
 ],
 "metadata": {
  "kernelspec": {
   "display_name": "Python 3 (ipykernel)",
   "language": "python",
   "name": "python3"
  },
  "language_info": {
   "codemirror_mode": {
    "name": "ipython",
    "version": 3
   },
   "file_extension": ".py",
   "mimetype": "text/x-python",
   "name": "python",
   "nbconvert_exporter": "python",
   "pygments_lexer": "ipython3",
   "version": "3.9.12"
  }
 },
 "nbformat": 4,
 "nbformat_minor": 2
}
