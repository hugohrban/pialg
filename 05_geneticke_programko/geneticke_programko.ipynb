{
 "cells": [
  {
   "cell_type": "markdown",
   "metadata": {},
   "source": [
    "# Evoluční algoritmy - Genetické programování"
   ]
  },
  {
   "cell_type": "markdown",
   "metadata": {},
   "source": [
    "Genetické programování je technika která pomoci evolučních algoritmů vytváří programy. Obecná struktura genetického programování začíná vygenerováním náhodných programů, ohodnocení programů pomocí jejich spuštění na daných datech a vygenerování nové generace programů pomocí klasických evolučních operátorů jako je selekce dle fitness, křížení dvou programů a jejich následná mutace. \n",
    "\n",
    "Evoluce obecného kódu je těžká, protože by často vytvářela invalid syntax. Proto se evolvuje jen strojový kód a základní instrukce a práce s registry, jako jsou skoky, základní aritmetické operace apod.\n",
    "\n",
    "Dneska se podíváme na jednoduché genetické programování, které má dva typy. Lineární, kdy je jedinec zapsán jako posloupnost instrukcí za sebou, a stromové, kdy jsou instrukce uložené ve stromové struktuře. Lineární genetické programování je sice rychlé a operace jsou tam přímočaré, ale obsahuje velké riziko, že vznikne nesmyslný kód. Proto se používá stromové genetické programování, které si vyzkoušíme na problému symbolické regrese, kdy bude naším cílem nalézt vzoreček, který bude nejlépe odpovídat zadaným datům, a následně na příkladu klasifikace kosatců v iris datasetu. Nejprve bude potřeba si rozmyslet, jak zadefinovat jedince jako strom a jak upravit evoluční operátory, aby s nimy uměly pracovat.\n",
    "\n",
    "K tomuto budeme používat knihovnu deap, kterou jsme si ukázali minule."
   ]
  },
  {
   "cell_type": "code",
   "execution_count": 20,
   "metadata": {},
   "outputs": [],
   "source": [
    "%matplotlib inline\n",
    "import numpy as np\n",
    "import matplotlib.pyplot as plt\n",
    "import pydot\n",
    "from pydot import Dot\n",
    "from IPython.display import Image\n",
    "\n",
    "import operator\n",
    "from deap import gp\n",
    "from deap import creator, base, tools, algorithms\n",
    "\n",
    "import pydot\n",
    "from IPython.display import Image\n",
    "\n",
    "import os\n",
    "os.environ[\"PATH\"] += os.pathsep + 'C:/Program Files/Graphviz/bin'"
   ]
  },
  {
   "cell_type": "markdown",
   "metadata": {},
   "source": [
    "Nejprve si vygenerujeme data v nějakém rozumném rozsahu a k nim odpovídající labely, například pomocí funkce sinus. Pro ně pak budeme chtít najít vzoreček regrese, který jim bude nejlépe odpovídat."
   ]
  },
  {
   "cell_type": "code",
   "execution_count": 21,
   "metadata": {},
   "outputs": [
    {
     "data": {
      "image/png": "[encoded data removed]",
      "text/plain": [
       "<Figure size 640x480 with 1 Axes>"
      ]
     },
     "metadata": {},
     "output_type": "display_data"
    }
   ],
   "source": [
    "x_train = np.linspace(-5, 5, 100)\n",
    "y_train = x_train*x_train + x_train + np.sin(4*x_train)\n",
    "\n",
    "plt.scatter(x_train, y_train,s=7,c='r')\n",
    "plt.show()"
   ]
  },
  {
   "cell_type": "markdown",
   "metadata": {},
   "source": [
    "Pro práci s genetickým algoritmem budeme potřebovat definovat jedince. To bude strom, který se bude skládat z množiny terminálů a neterminálů, které si ale musíme předem definovat. K tomu v knihovně deap existuje třída `gp.PrimitiveSet` pro klasické GP, případně `gp.PrimitiveSetTyped` pro typované GP. V našem příkladu použijeme tu typovanou verzi, protože je obecnější. Jelikož ale budeme používat jen jeden typ jedinců, šla by použít i netypovaná verze. Jako terminály si definujeme základní konstanty 0,1,2 a zbytek se dovytvoří z nich během evoluce. Jako neterminály budeme potřebovat operace sčítání, násobení a sinus, a protože zbylé operace se ve vzorečku nevyskytují, nebudeme si jimi zbytečně komplikovat život."
   ]
  },
  {
   "cell_type": "code",
   "execution_count": 22,
   "metadata": {},
   "outputs": [],
   "source": [
    "# mnozina se jmenuje MAIN, vstup je jeden float, vystup je taky jeden float\n",
    "pset = gp.PrimitiveSetTyped('MAIN', [float], float) \n",
    "\n",
    "# terminaly\n",
    "pset.addTerminal(1.0, float)\n",
    "pset.addTerminal(2.0, float)\n",
    "pset.addTerminal(0.0, float)\n",
    "\n",
    "\n",
    "# neterminaly\n",
    "pset.addPrimitive(np.sin, [float], float)\n",
    "pset.addPrimitive(operator.add, [float, float], float)\n",
    "pset.addPrimitive(operator.mul, [float, float], float)\n",
    "#pset.addPrimitive(operator.sub, [float, float], float)\n",
    "#pset.addPrimitive(np.cos, [float], float)\n",
    "#pset.addPrimitive(operator.truediv, [float, float], float)"
   ]
  },
  {
   "cell_type": "markdown",
   "metadata": {},
   "source": [
    "Když máme vytvořené terminály a neterminály, můžeme si definovat jedince, fitness funkci a genetické operátory. Jedince vygenerujeme jako náhodné stromy z množiny primitiv a nastavíme jim počáteční minimální a maximální hloubku. Fitness funkce bude MSE (Mean Squared Error), která počítá střední hodnoty druhých mocnin rozdílů mezi predikovanou výstupní hodnotou a skutečnou výstupní hodnotou, tedy čtvercovou vzdálenost jak daleko je predikovaný výstup od skutečného. Nastavíme jí váhu -1, protože chceme chybu minimalizovat. Zároveň nastavíme i váhu -0.01, která penalizuje počet uzlů ve stromu, abychom evoluci nutili k vytváření spíše menších jedinců. Selekci použijeme turnajovou, křížení jednobodové, kdy se klasicky náhodně zvolí bod a v něm se prohodí části podstromů, a uniformní mutaci, která náhodně vybere místo v jedinci a nahradí podstrom za kořen výrazu vygenerovanou pomocí metody ```expr()``` na základě definovaných operací a konstant. Zároveň přidáme limity na hloubku stromu pri křížení a mutaci, aby nám stromy zbytečně nebobtnaly."
   ]
  },
  {
   "cell_type": "code",
   "execution_count": 23,
   "metadata": {},
   "outputs": [
    {
     "name": "stderr",
     "output_type": "stream",
     "text": [
      "/Users/hugohrban/Documents/pialg/venv/lib/python3.9/site-packages/deap/creator.py:138: RuntimeWarning: A class named 'FitnessMin' has already been created and it will be overwritten. Consider deleting previous creation of that class or rename it.\n",
      "  warnings.warn(\"A class named '{0}' has already been created and it \"\n",
      "/Users/hugohrban/Documents/pialg/venv/lib/python3.9/site-packages/deap/creator.py:138: RuntimeWarning: A class named 'Individual' has already been created and it will be overwritten. Consider deleting previous creation of that class or rename it.\n",
      "  warnings.warn(\"A class named '{0}' has already been created and it \"\n"
     ]
    }
   ],
   "source": [
    "# definujeme fitness \n",
    "def fitness(ind, x, y):\n",
    "    func = toolbox.compile(expr=ind) # vytvorime funkci podle jedince\n",
    "    vals = list(map(func, x)) # zavolame funkci na data\n",
    "    return np.sqrt(np.dot(vals-y, vals-y)), len(ind) #spocitame chybu pomoci MSE\n",
    "\n",
    "# vytvorime tridy pro jedince\n",
    "creator.create(\"FitnessMin\", base.Fitness, weights=(-1.0, -0.01))\n",
    "creator.create(\"Individual\", gp.PrimitiveTree, fitness=creator.FitnessMin)\n",
    "\n",
    "# nastavime algoritmus\n",
    "toolbox = base.Toolbox()\n",
    "toolbox.register(\"expr\", gp.genHalfAndHalf, pset=pset, type_=float, min_=3, max_=10)\n",
    "toolbox.register(\"individual\", tools.initIterate, creator.Individual, toolbox.expr)\n",
    "toolbox.register(\"population\", tools.initRepeat, list, toolbox.individual)\n",
    "toolbox.register(\"compile\", gp.compile, pset=pset)\n",
    "\n",
    "toolbox.register(\"evaluate\", fitness, x=x_train, y=y_train)\n",
    "toolbox.register(\"select\", tools.selTournament, tournsize=3)\n",
    "toolbox.register(\"mate\", gp.cxOnePoint)\n",
    "toolbox.register(\"expr_mut\", gp.genFull, min_=1, max_=3)\n",
    "toolbox.register(\"mutate\", gp.mutUniform, expr=toolbox.expr_mut, pset=pset) \n",
    "\n",
    "# limity na hloubku stromu\n",
    "toolbox.decorate(\"mate\", gp.staticLimit(key=operator.attrgetter(\"height\"), max_value=17))\n",
    "toolbox.decorate(\"mutate\", gp.staticLimit(key=operator.attrgetter(\"height\"), max_value=17))"
   ]
  },
  {
   "cell_type": "markdown",
   "metadata": {},
   "source": [
    "Nyní jsme si napsali všechny potřebné operátory a definovali jsme si populaci, tak si ještě dodefinujeme nějaké statistické metody, abychom mohli sledovat vývoj evoluce a pak můžeme náš algoritmus genetického programování pustit."
   ]
  },
  {
   "cell_type": "code",
   "execution_count": 24,
   "metadata": {},
   "outputs": [
    {
     "name": "stdout",
     "output_type": "stream",
     "text": [
      "   \t      \t                       fitness                        \t                     size                     \n",
      "   \t      \t------------------------------------------------------\t----------------------------------------------\n",
      "gen\tnevals\tavg    \tgen\tmax        \tmin    \tnevals\tstd   \tavg   \tgen\tmax\tmin\tnevals\tstd   \n",
      "0  \t1000  \t17545.6\t0  \t1.70057e+07\t23.9086\t1000  \t537575\t71.352\t0  \t814\t4  \t1000  \t121.27\n",
      "1  \t531   \t113.8  \t1  \t2067.36    \t9.39668\t531   \t72.0837\t40.615\t1  \t635\t2  \t531   \t71.5904\n",
      "2  \t591   \t103.945\t2  \t1169.29    \t9.39668\t591   \t46.0275\t29.384\t2  \t481\t2  \t591   \t43.135 \n",
      "3  \t554   \t91.1219\t3  \t840.962    \t8.87592\t554   \t40.1333\t30.836\t3  \t462\t2  \t554   \t38.6415\n",
      "4  \t553   \t85.1378\t4  \t2215.32    \t7.03293\t553   \t94.4642\t33.237\t4  \t250\t5  \t553   \t38.1283\n",
      "5  \t543   \t79.2033\t5  \t2961.95    \t7.03293\t543   \t180.302\t32.644\t5  \t250\t3  \t543   \t39.287 \n",
      "6  \t495   \t72.6245\t6  \t2842.5     \t7.03293\t495   \t194.162\t26.854\t6  \t250\t3  \t495   \t29.553 \n",
      "7  \t569   \t89.5593\t7  \t7430.08    \t7.03293\t569   \t359.294\t23.855\t7  \t255\t2  \t569   \t20.1558\n",
      "8  \t551   \t75.8851\t8  \t6494.82    \t7.03293\t551   \t303.875\t23.891\t8  \t255\t2  \t551   \t17.449 \n",
      "9  \t597   \t63.8128\t9  \t4862.22    \t0      \t597   \t234.864\t23.856\t9  \t234\t2  \t597   \t16.3363\n",
      "10 \t569   \t46.037 \t10 \t2129.46    \t0      \t569   \t116.677\t22.998\t10 \t74 \t3  \t569   \t11.8539\n"
     ]
    }
   ],
   "source": [
    "pop = toolbox.population(n=1000)\n",
    "hof = tools.HallOfFame(1)\n",
    "\n",
    "stats_fit = tools.Statistics(lambda ind: ind.fitness.values[0])\n",
    "stats_size = tools.Statistics(len)\n",
    "mstats = tools.MultiStatistics(fitness=stats_fit, size=stats_size)\n",
    "mstats.register(\"avg\", np.mean)\n",
    "mstats.register(\"std\", np.std)\n",
    "mstats.register(\"min\", np.min)\n",
    "mstats.register(\"max\", np.max)\n",
    "\n",
    "pop, log = algorithms.eaSimple(pop, toolbox, 0.5, 0.1, 10, stats=mstats, halloffame=hof, verbose=True)"
   ]
  },
  {
   "cell_type": "markdown",
   "metadata": {},
   "source": [
    "Vidíme, že výstup výše je sice krásný a určitě bohatě vypovídající, ale asi bychom víc ocenili nějakou vizualici. Proto si napíšeme pomocnou funkci na zobrazení vytvořeného stromu. To uděláme pomocí knihovny *pydot*, která slouží právě ke zobrazování grafů."
   ]
  },
  {
   "cell_type": "code",
   "execution_count": 30,
   "metadata": {},
   "outputs": [],
   "source": [
    "# zobrazeni jedince jako stromu\n",
    "import os\n",
    "os.environ[\"PATH\"] += os.pathsep + \"/opt/homebrew/lib/python3.9/site-packages/graphviz\"\n",
    "def plot_tree(tree):\n",
    "    nodes, edges, labels = gp.graph(tree)\n",
    "    nodesDot = list(map(lambda x: pydot.Node(x, label=str(labels.get(x))),nodes))\n",
    "\n",
    "    g = pydot.Dot(graph_type='graph')\n",
    "    for node in nodesDot:\n",
    "        g.add_node(node)\n",
    "    for f,t in edges:\n",
    "        edge = pydot.Edge(nodesDot[f], nodesDot[t])\n",
    "        g.add_edge(edge)\n",
    "\n",
    "    return g.create_png()"
   ]
  },
  {
   "cell_type": "code",
   "execution_count": 31,
   "metadata": {},
   "outputs": [
    {
     "ename": "FileNotFoundError",
     "evalue": "[Errno 2] \"dot\" not found in path.",
     "output_type": "error",
     "traceback": [
      "\u001b[0;31m---------------------------------------------------------------------------\u001b[0m",
      "\u001b[0;31mFileNotFoundError\u001b[0m                         Traceback (most recent call last)",
      "File \u001b[0;32m~/Documents/pialg/venv/lib/python3.9/site-packages/pydot.py:1923\u001b[0m, in \u001b[0;36mDot.create\u001b[0;34m(self, prog, format, encoding)\u001b[0m\n\u001b[1;32m   1922\u001b[0m \u001b[39mtry\u001b[39;00m:\n\u001b[0;32m-> 1923\u001b[0m     stdout_data, stderr_data, process \u001b[39m=\u001b[39m call_graphviz(\n\u001b[1;32m   1924\u001b[0m         program\u001b[39m=\u001b[39;49mprog,\n\u001b[1;32m   1925\u001b[0m         arguments\u001b[39m=\u001b[39;49marguments,\n\u001b[1;32m   1926\u001b[0m         working_dir\u001b[39m=\u001b[39;49mtmp_dir,\n\u001b[1;32m   1927\u001b[0m     )\n\u001b[1;32m   1928\u001b[0m \u001b[39mexcept\u001b[39;00m \u001b[39mOSError\u001b[39;00m \u001b[39mas\u001b[39;00m e:\n",
      "File \u001b[0;32m~/Documents/pialg/venv/lib/python3.9/site-packages/pydot.py:132\u001b[0m, in \u001b[0;36mcall_graphviz\u001b[0;34m(program, arguments, working_dir, **kwargs)\u001b[0m\n\u001b[1;32m    130\u001b[0m program_with_args \u001b[39m=\u001b[39m [program, ] \u001b[39m+\u001b[39m arguments\n\u001b[0;32m--> 132\u001b[0m process \u001b[39m=\u001b[39m subprocess\u001b[39m.\u001b[39;49mPopen(\n\u001b[1;32m    133\u001b[0m     program_with_args,\n\u001b[1;32m    134\u001b[0m     env\u001b[39m=\u001b[39;49menv,\n\u001b[1;32m    135\u001b[0m     cwd\u001b[39m=\u001b[39;49mworking_dir,\n\u001b[1;32m    136\u001b[0m     shell\u001b[39m=\u001b[39;49m\u001b[39mFalse\u001b[39;49;00m,\n\u001b[1;32m    137\u001b[0m     stderr\u001b[39m=\u001b[39;49msubprocess\u001b[39m.\u001b[39;49mPIPE,\n\u001b[1;32m    138\u001b[0m     stdout\u001b[39m=\u001b[39;49msubprocess\u001b[39m.\u001b[39;49mPIPE,\n\u001b[1;32m    139\u001b[0m     \u001b[39m*\u001b[39;49m\u001b[39m*\u001b[39;49mkwargs\n\u001b[1;32m    140\u001b[0m )\n\u001b[1;32m    141\u001b[0m stdout_data, stderr_data \u001b[39m=\u001b[39m process\u001b[39m.\u001b[39mcommunicate()\n",
      "File \u001b[0;32m/opt/homebrew/Cellar/python@3.9/3.9.12_1/Frameworks/Python.framework/Versions/3.9/lib/python3.9/subprocess.py:951\u001b[0m, in \u001b[0;36mPopen.__init__\u001b[0;34m(self, args, bufsize, executable, stdin, stdout, stderr, preexec_fn, close_fds, shell, cwd, env, universal_newlines, startupinfo, creationflags, restore_signals, start_new_session, pass_fds, user, group, extra_groups, encoding, errors, text, umask)\u001b[0m\n\u001b[1;32m    948\u001b[0m             \u001b[39mself\u001b[39m\u001b[39m.\u001b[39mstderr \u001b[39m=\u001b[39m io\u001b[39m.\u001b[39mTextIOWrapper(\u001b[39mself\u001b[39m\u001b[39m.\u001b[39mstderr,\n\u001b[1;32m    949\u001b[0m                     encoding\u001b[39m=\u001b[39mencoding, errors\u001b[39m=\u001b[39merrors)\n\u001b[0;32m--> 951\u001b[0m     \u001b[39mself\u001b[39;49m\u001b[39m.\u001b[39;49m_execute_child(args, executable, preexec_fn, close_fds,\n\u001b[1;32m    952\u001b[0m                         pass_fds, cwd, env,\n\u001b[1;32m    953\u001b[0m                         startupinfo, creationflags, shell,\n\u001b[1;32m    954\u001b[0m                         p2cread, p2cwrite,\n\u001b[1;32m    955\u001b[0m                         c2pread, c2pwrite,\n\u001b[1;32m    956\u001b[0m                         errread, errwrite,\n\u001b[1;32m    957\u001b[0m                         restore_signals,\n\u001b[1;32m    958\u001b[0m                         gid, gids, uid, umask,\n\u001b[1;32m    959\u001b[0m                         start_new_session)\n\u001b[1;32m    960\u001b[0m \u001b[39mexcept\u001b[39;00m:\n\u001b[1;32m    961\u001b[0m     \u001b[39m# Cleanup if the child failed starting.\u001b[39;00m\n",
      "File \u001b[0;32m/opt/homebrew/Cellar/python@3.9/3.9.12_1/Frameworks/Python.framework/Versions/3.9/lib/python3.9/subprocess.py:1821\u001b[0m, in \u001b[0;36mPopen._execute_child\u001b[0;34m(self, args, executable, preexec_fn, close_fds, pass_fds, cwd, env, startupinfo, creationflags, shell, p2cread, p2cwrite, c2pread, c2pwrite, errread, errwrite, restore_signals, gid, gids, uid, umask, start_new_session)\u001b[0m\n\u001b[1;32m   1820\u001b[0m         err_msg \u001b[39m=\u001b[39m os\u001b[39m.\u001b[39mstrerror(errno_num)\n\u001b[0;32m-> 1821\u001b[0m     \u001b[39mraise\u001b[39;00m child_exception_type(errno_num, err_msg, err_filename)\n\u001b[1;32m   1822\u001b[0m \u001b[39mraise\u001b[39;00m child_exception_type(err_msg)\n",
      "\u001b[0;31mFileNotFoundError\u001b[0m: [Errno 2] No such file or directory: 'dot'",
      "\nDuring handling of the above exception, another exception occurred:\n",
      "\u001b[0;31mFileNotFoundError\u001b[0m                         Traceback (most recent call last)",
      "Cell \u001b[0;32mIn[31], line 1\u001b[0m\n\u001b[0;32m----> 1\u001b[0m Image(plot_tree(hof[\u001b[39m0\u001b[39;49m]))\n",
      "Cell \u001b[0;32mIn[30], line 15\u001b[0m, in \u001b[0;36mplot_tree\u001b[0;34m(tree)\u001b[0m\n\u001b[1;32m     12\u001b[0m     edge \u001b[39m=\u001b[39m pydot\u001b[39m.\u001b[39mEdge(nodesDot[f], nodesDot[t])\n\u001b[1;32m     13\u001b[0m     g\u001b[39m.\u001b[39madd_edge(edge)\n\u001b[0;32m---> 15\u001b[0m \u001b[39mreturn\u001b[39;00m g\u001b[39m.\u001b[39;49mcreate_png()\n",
      "File \u001b[0;32m~/Documents/pialg/venv/lib/python3.9/site-packages/pydot.py:1733\u001b[0m, in \u001b[0;36mDot.__init__.<locals>.new_method\u001b[0;34m(f, prog, encoding)\u001b[0m\n\u001b[1;32m   1729\u001b[0m \u001b[39mdef\u001b[39;00m \u001b[39mnew_method\u001b[39m(\n\u001b[1;32m   1730\u001b[0m         f\u001b[39m=\u001b[39mfrmt, prog\u001b[39m=\u001b[39m\u001b[39mself\u001b[39m\u001b[39m.\u001b[39mprog,\n\u001b[1;32m   1731\u001b[0m         encoding\u001b[39m=\u001b[39m\u001b[39mNone\u001b[39;00m):\n\u001b[1;32m   1732\u001b[0m \u001b[39m    \u001b[39m\u001b[39m\"\"\"Refer to docstring of method `create`.\"\"\"\u001b[39;00m\n\u001b[0;32m-> 1733\u001b[0m     \u001b[39mreturn\u001b[39;00m \u001b[39mself\u001b[39;49m\u001b[39m.\u001b[39;49mcreate(\n\u001b[1;32m   1734\u001b[0m         \u001b[39mformat\u001b[39;49m\u001b[39m=\u001b[39;49mf, prog\u001b[39m=\u001b[39;49mprog, encoding\u001b[39m=\u001b[39;49mencoding)\n",
      "File \u001b[0;32m~/Documents/pialg/venv/lib/python3.9/site-packages/pydot.py:1933\u001b[0m, in \u001b[0;36mDot.create\u001b[0;34m(self, prog, format, encoding)\u001b[0m\n\u001b[1;32m   1930\u001b[0m     args \u001b[39m=\u001b[39m \u001b[39mlist\u001b[39m(e\u001b[39m.\u001b[39margs)\n\u001b[1;32m   1931\u001b[0m     args[\u001b[39m1\u001b[39m] \u001b[39m=\u001b[39m \u001b[39m'\u001b[39m\u001b[39m\"\u001b[39m\u001b[39m{prog}\u001b[39;00m\u001b[39m\"\u001b[39m\u001b[39m not found in path.\u001b[39m\u001b[39m'\u001b[39m\u001b[39m.\u001b[39mformat(\n\u001b[1;32m   1932\u001b[0m         prog\u001b[39m=\u001b[39mprog)\n\u001b[0;32m-> 1933\u001b[0m     \u001b[39mraise\u001b[39;00m \u001b[39mOSError\u001b[39;00m(\u001b[39m*\u001b[39margs)\n\u001b[1;32m   1934\u001b[0m \u001b[39melse\u001b[39;00m:\n\u001b[1;32m   1935\u001b[0m     \u001b[39mraise\u001b[39;00m\n",
      "\u001b[0;31mFileNotFoundError\u001b[0m: [Errno 2] \"dot\" not found in path."
     ]
    }
   ],
   "source": [
    "Image(plot_tree(hof[0]))"
   ]
  },
  {
   "cell_type": "markdown",
   "metadata": {},
   "source": [
    "Ještě si napíšeme jednoduchou funkci, která nám vykreslí graf, abychom se mohli podívat, jak vypadá naše naučená funkce vzhledem k datům. Když máme štěstí na dobrý běh tak vidíme, že se nám podařilo nalézt funkci téměř ideálně pasující na naše data."
   ]
  },
  {
   "cell_type": "code",
   "execution_count": 27,
   "metadata": {},
   "outputs": [
    {
     "data": {
      "image/png": "[encoded data removed]",
      "text/plain": [
       "<Figure size 1200x800 with 1 Axes>"
      ]
     },
     "metadata": {},
     "output_type": "display_data"
    }
   ],
   "source": [
    "sol = gp.compile(hof[0], pset)\n",
    "\n",
    "y = list(map(sol, x_train))\n",
    "plt.figure(figsize=(12, 8))\n",
    "plt.plot(x_train, y_train, 'ro', label='train')\n",
    "plt.plot(x_train, y, 'b',label='solution')\n",
    "plt.legend()\n",
    "plt.show()"
   ]
  },
  {
   "cell_type": "markdown",
   "metadata": {},
   "source": [
    "## Úkol na cvičení"
   ]
  },
  {
   "cell_type": "markdown",
   "metadata": {},
   "source": [
    "Zkuste pomocí genetického programování řešit problém klasifikace pro dataset Iris, se kterým jsme pracovali na prvním cvičení. K tomu bude potřeba si definovat množinu primitiv a fitness. Množina primitiv bude potřebovat minimálně pravidlo pro porovnávání a možnost vygenerovat náhodnou konstantu, aby se mohlo porovnávat nejen mezi vstupy, ale i vstup s nějakou fixní hodnotou, a terminály 0, 1, 2 pro výstupní labely. Fitness může být například accuracy stromu na vstupních datech, kterou pak můžeme v genetickém algoritmu klasicky maximalizovat. Zkuste si rozmyslet další pravidla či prvky, které by se mohly pro tuto úlohu hodit. Následně je naimplementujte je a pusťte genetické programování.\n",
    "\n",
    "Hint: Dataset si můžete načíst přímo z knihovny *sklearn*, abyste ho nemuseli preprocesovat. Samotné features jsou uložené jako pole v `iris.data` a cílové třídy jsou pak uložené v `iris.target`."
   ]
  },
  {
   "cell_type": "code",
   "execution_count": 9,
   "metadata": {},
   "outputs": [
    {
     "name": "stdout",
     "output_type": "stream",
     "text": [
      "[[5.1 3.5 1.4 0.2]\n",
      " [4.9 3.  1.4 0.2]\n",
      " [4.7 3.2 1.3 0.2]\n",
      " [4.6 3.1 1.5 0.2]\n",
      " [5.  3.6 1.4 0.2]\n",
      " [5.4 3.9 1.7 0.4]\n",
      " [4.6 3.4 1.4 0.3]\n",
      " [5.  3.4 1.5 0.2]\n",
      " [4.4 2.9 1.4 0.2]\n",
      " [4.9 3.1 1.5 0.1]]\n",
      "[0 0 0 0 0 0 0 0 0 0]\n"
     ]
    }
   ],
   "source": [
    "from sklearn import datasets\n",
    "iris = datasets.load_iris()\n",
    "features = iris.data\n",
    "targets = iris.target\n",
    "print(features[0:10])\n",
    "print(targets[0:10])\n"
   ]
  },
  {
   "cell_type": "code",
   "execution_count": null,
   "metadata": {},
   "outputs": [],
   "source": [
    "def ge(a, b, c, d):\n",
    "   return c if a>=b else d\n",
    "\n",
    "def lt(a, b, c, d):\n",
    "    return c if a<b else d"
   ]
  },
  {
   "cell_type": "code",
   "execution_count": null,
   "metadata": {},
   "outputs": [],
   "source": [
    "# def fitness()"
   ]
  },
  {
   "cell_type": "code",
   "execution_count": null,
   "metadata": {},
   "outputs": [],
   "source": [
    "# mnozina se jmenuje MAIN, vstup je jeden float, vystup je taky jeden float\n",
    "pset = gp.PrimitiveSetTyped('MAIN', [float], float) \n",
    "\n",
    "# terminaly\n",
    "pset.addTerminal(0, int)\n",
    "pset.addTerminal(1, int)\n",
    "pset.addTerminal(2, int)\n",
    "pset.addTerminal(3, int)\n",
    "\n",
    "pset.addTerminal(\"class0\", str)\n",
    "pset.addTerminal(\"class1\", str)\n",
    "pset.addTerminal(\"class2\", str)\n",
    "\n",
    "\n",
    "# neterminaly\n",
    "pset.addPrimitive(ge, [float, float, int, int], int)\n",
    "pset.addPrimitive(lt, [float, float, int, int], int)\n",
    "\n",
    "\n",
    "creator.create(\"FitnessMin\", base.Fitness, weights=(-1.0, -0.01))\n",
    "creator.create(\"Individual\", gp.PrimitiveTree, fitness=creator.FitnessMin)\n",
    "\n",
    "# nastavime algoritmus\n",
    "toolbox = base.Toolbox()\n",
    "toolbox.register(\"expr\", gp.genHalfAndHalf, pset=pset, type_=float, min_=3, max_=10)\n",
    "toolbox.register(\"individual\", tools.initIterate, creator.Individual, toolbox.expr)\n",
    "toolbox.register(\"population\", tools.initRepeat, list, toolbox.individual)\n",
    "toolbox.register(\"compile\", gp.compile, pset=pset)\n",
    "\n",
    "toolbox.register(\"evaluate\", fitness, x=x_train, y=y_train)\n",
    "toolbox.register(\"select\", tools.selTournament, tournsize=3)\n",
    "toolbox.register(\"mate\", gp.cxOnePoint)\n",
    "toolbox.register(\"expr_mut\", gp.genFull, min_=1, max_=3)\n",
    "toolbox.register(\"mutate\", gp.mutUniform, expr=toolbox.expr_mut, pset=pset) \n"
   ]
  }
 ],
 "metadata": {
  "kernelspec": {
   "display_name": "Python 3 (ipykernel)",
   "language": "python",
   "name": "python3"
  },
  "language_info": {
   "codemirror_mode": {
    "name": "ipython",
    "version": 3
   },
   "file_extension": ".py",
   "mimetype": "text/x-python",
   "name": "python",
   "nbconvert_exporter": "python",
   "pygments_lexer": "ipython3",
   "version": "3.9.12"
  }
 },
 "nbformat": 4,
 "nbformat_minor": 4
}
